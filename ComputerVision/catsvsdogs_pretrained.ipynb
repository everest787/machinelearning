{
  "cells": [
    {
      "cell_type": "code",
      "execution_count": null,
      "metadata": {
        "colab": {
          "base_uri": "https://localhost:8080/",
          "height": 1000
        },
        "id": "1CAykqCqwaqp",
        "outputId": "20e1ef00-b3a3-4771-bd66-d2416ebde0d8"
      },
      "outputs": [],
      "source": [
        "from google.colab import files\n",
        "files.upload()"
      ]
    },
    {
      "cell_type": "code",
      "execution_count": 3,
      "metadata": {
        "id": "ldAhxVdCyBWb"
      },
      "outputs": [],
      "source": [
        "!mkdir ~/.kaggle\n",
        "!cp kaggle.json ~/.kaggle/\n",
        "!chmod 600 ~/.kaggle/kaggle.json"
      ]
    },
    {
      "cell_type": "code",
      "execution_count": 4,
      "metadata": {
        "colab": {
          "base_uri": "https://localhost:8080/"
        },
        "id": "XUyAgArKyEBY",
        "outputId": "f69b3a33-ba8b-4dda-a5c1-e5746d5fe040"
      },
      "outputs": [
        {
          "name": "stdout",
          "output_type": "stream",
          "text": [
            "Downloading dogs-vs-cats.zip to /content\n",
            "100% 812M/812M [00:30<00:00, 30.9MB/s]\n",
            "100% 812M/812M [00:30<00:00, 28.4MB/s]\n"
          ]
        }
      ],
      "source": [
        "!kaggle competitions download -c dogs-vs-cats"
      ]
    },
    {
      "cell_type": "code",
      "execution_count": 5,
      "metadata": {
        "id": "kdphGP9UyFqo"
      },
      "outputs": [],
      "source": [
        "!unzip -qq dogs-vs-cats.zip"
      ]
    },
    {
      "cell_type": "code",
      "execution_count": 6,
      "metadata": {
        "id": "TgfKfxS9yHFO"
      },
      "outputs": [],
      "source": [
        "!unzip -qq train.zip"
      ]
    },
    {
      "cell_type": "code",
      "execution_count": 7,
      "metadata": {
        "id": "ptFZ1R1OyI8x"
      },
      "outputs": [],
      "source": [
        "import os, shutil, pathlib\n",
        "\n",
        "original_dir = pathlib.Path(\"train\")\n",
        "new_base_dir = pathlib.Path(\"cats_vs_dogs_small\")"
      ]
    },
    {
      "cell_type": "markdown",
      "metadata": {
        "id": "yTsIKbukyMBV"
      },
      "source": [
        "Utility function to copy cat and dog images from index start_index to index end_index to the subdirectory new_base_dir/{subset_name}/cat (and /dog). The \"subset_name\" will be either \"train\", \"validation\", or \"test\""
      ]
    },
    {
      "cell_type": "code",
      "execution_count": 8,
      "metadata": {
        "id": "mXxSVkyByM3M"
      },
      "outputs": [],
      "source": [
        "def make_subset (subset_name, start_index, end_index):\n",
        "  for category in (\"cat\", \"dog\"):\n",
        "    dir = new_base_dir / subset_name / category\n",
        "    os.makedirs(dir)\n",
        "    fnames = [f\"{category}.{i}.jpg\"\n",
        "              for i in range(start_index, end_index)]\n",
        "    for fname in fnames:\n",
        "      shutil.copyfile(src = original_dir / fname,\n",
        "                      dst = dir / fname)"
      ]
    },
    {
      "cell_type": "code",
      "execution_count": 9,
      "metadata": {
        "id": "pMb58beTyPzP"
      },
      "outputs": [],
      "source": [
        "make_subset(\"train\", start_index=0, end_index=1000)\n",
        "make_subset(\"validation\", start_index=1000, end_index=1500)\n",
        "make_subset(\"test\", start_index=1500, end_index=2500)"
      ]
    },
    {
      "cell_type": "code",
      "execution_count": 10,
      "metadata": {
        "id": "gF222t1CyRJo"
      },
      "outputs": [],
      "source": [
        "from tensorflow import keras\n",
        "from tensorflow.keras import layers"
      ]
    },
    {
      "cell_type": "code",
      "execution_count": 11,
      "metadata": {
        "colab": {
          "base_uri": "https://localhost:8080/"
        },
        "id": "eqT3eXxU0zNN",
        "outputId": "31358412-5fd2-47a8-c870-ccb04829faf6"
      },
      "outputs": [
        {
          "name": "stdout",
          "output_type": "stream",
          "text": [
            "Found 2000 files belonging to 2 classes.\n",
            "Found 1000 files belonging to 2 classes.\n",
            "Found 2000 files belonging to 2 classes.\n"
          ]
        }
      ],
      "source": [
        "from tensorflow.keras.utils import image_dataset_from_directory\n",
        "\n",
        "train_dataset = image_dataset_from_directory(\n",
        "    new_base_dir / \"train\",\n",
        "    image_size=(180, 180),\n",
        "    batch_size=32\n",
        ")\n",
        "validation_dataset = image_dataset_from_directory(\n",
        "    new_base_dir / \"validation\",\n",
        "    image_size=(180, 180),\n",
        "    batch_size=32\n",
        ")\n",
        "test_dataset = image_dataset_from_directory(\n",
        "    new_base_dir / \"test\",\n",
        "    image_size=(180, 180),\n",
        "    batch_size=32\n",
        ")"
      ]
    },
    {
      "cell_type": "code",
      "execution_count": 12,
      "metadata": {
        "colab": {
          "base_uri": "https://localhost:8080/"
        },
        "id": "L-Vls7BZ009k",
        "outputId": "2f2c30be-0d2a-4f36-8064-41387b06d572"
      },
      "outputs": [
        {
          "name": "stdout",
          "output_type": "stream",
          "text": [
            "data batch shape: (32, 180, 180, 3)\n",
            "labels batch shape: (32,)\n"
          ]
        }
      ],
      "source": [
        "for data_batch, labels_batch in train_dataset:\n",
        "  print(\"data batch shape:\", data_batch.shape)\n",
        "  print(\"labels batch shape:\", labels_batch.shape)\n",
        "  break"
      ]
    },
    {
      "cell_type": "code",
      "execution_count": 13,
      "metadata": {
        "colab": {
          "base_uri": "https://localhost:8080/"
        },
        "id": "ZN7SAuU0zrmo",
        "outputId": "fab891fa-ac46-4717-d6a8-39723d44d8f8"
      },
      "outputs": [
        {
          "name": "stdout",
          "output_type": "stream",
          "text": [
            "Downloading data from https://storage.googleapis.com/tensorflow/keras-applications/vgg16/vgg16_weights_tf_dim_ordering_tf_kernels_notop.h5\n",
            "58889256/58889256 [==============================] - 3s 0us/step\n"
          ]
        }
      ],
      "source": [
        "conv_base = keras.applications.vgg16.VGG16(\n",
        "    weights = \"imagenet\",\n",
        "    include_top = False,\n",
        "    input_shape = (180, 180, 3)\n",
        ")"
      ]
    },
    {
      "cell_type": "code",
      "execution_count": 14,
      "metadata": {
        "colab": {
          "base_uri": "https://localhost:8080/"
        },
        "id": "neRQZOoI1Mw8",
        "outputId": "40e365fc-a38a-47d8-fcc8-fce49a35b7f7"
      },
      "outputs": [
        {
          "name": "stdout",
          "output_type": "stream",
          "text": [
            "Model: \"vgg16\"\n",
            "_________________________________________________________________\n",
            " Layer (type)                Output Shape              Param #   \n",
            "=================================================================\n",
            " input_1 (InputLayer)        [(None, 180, 180, 3)]     0         \n",
            "                                                                 \n",
            " block1_conv1 (Conv2D)       (None, 180, 180, 64)      1792      \n",
            "                                                                 \n",
            " block1_conv2 (Conv2D)       (None, 180, 180, 64)      36928     \n",
            "                                                                 \n",
            " block1_pool (MaxPooling2D)  (None, 90, 90, 64)        0         \n",
            "                                                                 \n",
            " block2_conv1 (Conv2D)       (None, 90, 90, 128)       73856     \n",
            "                                                                 \n",
            " block2_conv2 (Conv2D)       (None, 90, 90, 128)       147584    \n",
            "                                                                 \n",
            " block2_pool (MaxPooling2D)  (None, 45, 45, 128)       0         \n",
            "                                                                 \n",
            " block3_conv1 (Conv2D)       (None, 45, 45, 256)       295168    \n",
            "                                                                 \n",
            " block3_conv2 (Conv2D)       (None, 45, 45, 256)       590080    \n",
            "                                                                 \n",
            " block3_conv3 (Conv2D)       (None, 45, 45, 256)       590080    \n",
            "                                                                 \n",
            " block3_pool (MaxPooling2D)  (None, 22, 22, 256)       0         \n",
            "                                                                 \n",
            " block4_conv1 (Conv2D)       (None, 22, 22, 512)       1180160   \n",
            "                                                                 \n",
            " block4_conv2 (Conv2D)       (None, 22, 22, 512)       2359808   \n",
            "                                                                 \n",
            " block4_conv3 (Conv2D)       (None, 22, 22, 512)       2359808   \n",
            "                                                                 \n",
            " block4_pool (MaxPooling2D)  (None, 11, 11, 512)       0         \n",
            "                                                                 \n",
            " block5_conv1 (Conv2D)       (None, 11, 11, 512)       2359808   \n",
            "                                                                 \n",
            " block5_conv2 (Conv2D)       (None, 11, 11, 512)       2359808   \n",
            "                                                                 \n",
            " block5_conv3 (Conv2D)       (None, 11, 11, 512)       2359808   \n",
            "                                                                 \n",
            " block5_pool (MaxPooling2D)  (None, 5, 5, 512)         0         \n",
            "                                                                 \n",
            "=================================================================\n",
            "Total params: 14714688 (56.13 MB)\n",
            "Trainable params: 14714688 (56.13 MB)\n",
            "Non-trainable params: 0 (0.00 Byte)\n",
            "_________________________________________________________________\n"
          ]
        }
      ],
      "source": [
        "conv_base.summary()"
      ]
    },
    {
      "cell_type": "code",
      "execution_count": 15,
      "metadata": {
        "colab": {
          "base_uri": "https://localhost:8080/"
        },
        "id": "1dcWraW41SVE",
        "outputId": "d24bf078-8851-4237-ca0f-ffadeacc6143"
      },
      "outputs": [
        {
          "name": "stdout",
          "output_type": "stream",
          "text": [
            "1/1 [==============================] - 12s 12s/step\n",
            "1/1 [==============================] - 12s 12s/step\n",
            "1/1 [==============================] - 13s 13s/step\n",
            "1/1 [==============================] - 12s 12s/step\n",
            "1/1 [==============================] - 11s 11s/step\n",
            "1/1 [==============================] - 11s 11s/step\n",
            "1/1 [==============================] - 12s 12s/step\n",
            "1/1 [==============================] - 12s 12s/step\n",
            "1/1 [==============================] - 12s 12s/step\n",
            "1/1 [==============================] - 12s 12s/step\n",
            "1/1 [==============================] - 11s 11s/step\n",
            "1/1 [==============================] - 12s 12s/step\n",
            "1/1 [==============================] - 12s 12s/step\n",
            "1/1 [==============================] - 12s 12s/step\n",
            "1/1 [==============================] - 11s 11s/step\n",
            "1/1 [==============================] - 11s 11s/step\n",
            "1/1 [==============================] - 12s 12s/step\n",
            "1/1 [==============================] - 12s 12s/step\n",
            "1/1 [==============================] - 12s 12s/step\n",
            "1/1 [==============================] - 12s 12s/step\n",
            "1/1 [==============================] - 12s 12s/step\n",
            "1/1 [==============================] - 12s 12s/step\n",
            "1/1 [==============================] - 12s 12s/step\n",
            "1/1 [==============================] - 12s 12s/step\n",
            "1/1 [==============================] - 12s 12s/step\n",
            "1/1 [==============================] - 11s 11s/step\n",
            "1/1 [==============================] - 12s 12s/step\n",
            "1/1 [==============================] - 12s 12s/step\n",
            "1/1 [==============================] - 11s 11s/step\n",
            "1/1 [==============================] - 12s 12s/step\n",
            "1/1 [==============================] - 14s 14s/step\n",
            "1/1 [==============================] - 12s 12s/step\n",
            "1/1 [==============================] - 11s 11s/step\n",
            "1/1 [==============================] - 11s 11s/step\n",
            "1/1 [==============================] - 11s 11s/step\n",
            "1/1 [==============================] - 11s 11s/step\n",
            "1/1 [==============================] - 11s 11s/step\n",
            "1/1 [==============================] - 12s 12s/step\n",
            "1/1 [==============================] - 11s 11s/step\n",
            "1/1 [==============================] - 11s 11s/step\n",
            "1/1 [==============================] - 11s 11s/step\n",
            "1/1 [==============================] - 11s 11s/step\n",
            "1/1 [==============================] - 11s 11s/step\n",
            "1/1 [==============================] - 11s 11s/step\n",
            "1/1 [==============================] - 11s 11s/step\n",
            "1/1 [==============================] - 11s 11s/step\n",
            "1/1 [==============================] - 11s 11s/step\n",
            "1/1 [==============================] - 11s 11s/step\n",
            "1/1 [==============================] - 11s 11s/step\n",
            "1/1 [==============================] - 11s 11s/step\n",
            "1/1 [==============================] - 11s 11s/step\n",
            "1/1 [==============================] - 11s 11s/step\n",
            "1/1 [==============================] - 11s 11s/step\n",
            "1/1 [==============================] - 11s 11s/step\n",
            "1/1 [==============================] - 11s 11s/step\n",
            "1/1 [==============================] - 12s 12s/step\n",
            "1/1 [==============================] - 11s 11s/step\n",
            "1/1 [==============================] - 11s 11s/step\n",
            "1/1 [==============================] - 11s 11s/step\n",
            "1/1 [==============================] - 11s 11s/step\n",
            "1/1 [==============================] - 11s 11s/step\n",
            "1/1 [==============================] - 11s 11s/step\n",
            "1/1 [==============================] - 5s 5s/step\n",
            "1/1 [==============================] - 11s 11s/step\n",
            "1/1 [==============================] - 11s 11s/step\n",
            "1/1 [==============================] - 11s 11s/step\n",
            "1/1 [==============================] - 11s 11s/step\n",
            "1/1 [==============================] - 16s 16s/step\n",
            "1/1 [==============================] - 12s 12s/step\n",
            "1/1 [==============================] - 11s 11s/step\n",
            "1/1 [==============================] - 11s 11s/step\n",
            "1/1 [==============================] - 11s 11s/step\n",
            "1/1 [==============================] - 12s 12s/step\n",
            "1/1 [==============================] - 11s 11s/step\n",
            "1/1 [==============================] - 11s 11s/step\n",
            "1/1 [==============================] - 11s 11s/step\n",
            "1/1 [==============================] - 11s 11s/step\n",
            "1/1 [==============================] - 11s 11s/step\n",
            "1/1 [==============================] - 11s 11s/step\n",
            "1/1 [==============================] - 11s 11s/step\n",
            "1/1 [==============================] - 11s 11s/step\n",
            "1/1 [==============================] - 11s 11s/step\n",
            "1/1 [==============================] - 11s 11s/step\n",
            "1/1 [==============================] - 11s 11s/step\n",
            "1/1 [==============================] - 11s 11s/step\n",
            "1/1 [==============================] - 11s 11s/step\n",
            "1/1 [==============================] - 11s 11s/step\n",
            "1/1 [==============================] - 11s 11s/step\n",
            "1/1 [==============================] - 11s 11s/step\n",
            "1/1 [==============================] - 11s 11s/step\n",
            "1/1 [==============================] - 11s 11s/step\n",
            "1/1 [==============================] - 11s 11s/step\n",
            "1/1 [==============================] - 11s 11s/step\n",
            "1/1 [==============================] - 11s 11s/step\n",
            "1/1 [==============================] - 3s 3s/step\n",
            "1/1 [==============================] - 11s 11s/step\n",
            "1/1 [==============================] - 11s 11s/step\n",
            "1/1 [==============================] - 11s 11s/step\n",
            "1/1 [==============================] - 11s 11s/step\n",
            "1/1 [==============================] - 11s 11s/step\n",
            "1/1 [==============================] - 11s 11s/step\n",
            "1/1 [==============================] - 11s 11s/step\n",
            "1/1 [==============================] - 11s 11s/step\n",
            "1/1 [==============================] - 11s 11s/step\n",
            "1/1 [==============================] - 11s 11s/step\n",
            "1/1 [==============================] - 11s 11s/step\n",
            "1/1 [==============================] - 11s 11s/step\n",
            "1/1 [==============================] - 11s 11s/step\n",
            "1/1 [==============================] - 11s 11s/step\n",
            "1/1 [==============================] - 11s 11s/step\n",
            "1/1 [==============================] - 11s 11s/step\n",
            "1/1 [==============================] - 17s 17s/step\n",
            "1/1 [==============================] - 12s 12s/step\n",
            "1/1 [==============================] - 11s 11s/step\n",
            "1/1 [==============================] - 11s 11s/step\n",
            "1/1 [==============================] - 11s 11s/step\n",
            "1/1 [==============================] - 12s 12s/step\n",
            "1/1 [==============================] - 11s 11s/step\n",
            "1/1 [==============================] - 11s 11s/step\n",
            "1/1 [==============================] - 11s 11s/step\n",
            "1/1 [==============================] - 11s 11s/step\n",
            "1/1 [==============================] - 11s 11s/step\n",
            "1/1 [==============================] - 11s 11s/step\n",
            "1/1 [==============================] - 11s 11s/step\n",
            "1/1 [==============================] - 11s 11s/step\n",
            "1/1 [==============================] - 11s 11s/step\n",
            "1/1 [==============================] - 11s 11s/step\n",
            "1/1 [==============================] - 11s 11s/step\n",
            "1/1 [==============================] - 11s 11s/step\n",
            "1/1 [==============================] - 11s 11s/step\n",
            "1/1 [==============================] - 11s 11s/step\n",
            "1/1 [==============================] - 11s 11s/step\n",
            "1/1 [==============================] - 11s 11s/step\n",
            "1/1 [==============================] - 11s 11s/step\n",
            "1/1 [==============================] - 12s 12s/step\n",
            "1/1 [==============================] - 11s 11s/step\n",
            "1/1 [==============================] - 11s 11s/step\n",
            "1/1 [==============================] - 11s 11s/step\n",
            "1/1 [==============================] - 11s 11s/step\n",
            "1/1 [==============================] - 11s 11s/step\n",
            "1/1 [==============================] - 11s 11s/step\n",
            "1/1 [==============================] - 11s 11s/step\n",
            "1/1 [==============================] - 11s 11s/step\n",
            "1/1 [==============================] - 11s 11s/step\n",
            "1/1 [==============================] - 11s 11s/step\n",
            "1/1 [==============================] - 11s 11s/step\n",
            "1/1 [==============================] - 11s 11s/step\n",
            "1/1 [==============================] - 11s 11s/step\n",
            "1/1 [==============================] - 11s 11s/step\n",
            "1/1 [==============================] - 11s 11s/step\n",
            "1/1 [==============================] - 11s 11s/step\n",
            "1/1 [==============================] - 11s 11s/step\n",
            "1/1 [==============================] - 11s 11s/step\n",
            "1/1 [==============================] - 11s 11s/step\n",
            "1/1 [==============================] - 12s 12s/step\n",
            "1/1 [==============================] - 11s 11s/step\n",
            "1/1 [==============================] - 11s 11s/step\n",
            "1/1 [==============================] - 6s 6s/step\n"
          ]
        }
      ],
      "source": [
        "from tensorflow.python import train\n",
        "import numpy as np\n",
        "\n",
        "def get_feature_and_labels(dataset):\n",
        "  all_features = []\n",
        "  all_labels = []\n",
        "  for images, labels in dataset:\n",
        "    preprocessed_images = keras.applications.vgg16.preprocess_input(images)\n",
        "    features = conv_base.predict(preprocessed_images)\n",
        "    all_features.append(features)\n",
        "    all_labels.append(labels)\n",
        "  return np.concatenate(all_features), np.concatenate(all_labels)\n",
        "\n",
        "train_features, train_labels = get_feature_and_labels(train_dataset)\n",
        "val_features, val_labels = get_feature_and_labels(validation_dataset)\n",
        "test_features, test_labels = get_feature_and_labels(test_dataset)"
      ]
    },
    {
      "cell_type": "code",
      "execution_count": 16,
      "metadata": {
        "colab": {
          "base_uri": "https://localhost:8080/"
        },
        "id": "Da_ACn2R3e9n",
        "outputId": "28a3c26c-7bed-4ec0-de53-34de2973b720"
      },
      "outputs": [
        {
          "data": {
            "text/plain": [
              "(2000, 5, 5, 512)"
            ]
          },
          "execution_count": 16,
          "metadata": {},
          "output_type": "execute_result"
        }
      ],
      "source": [
        "train_features.shape"
      ]
    },
    {
      "cell_type": "code",
      "execution_count": 17,
      "metadata": {
        "id": "evtm9hzZ3jIw"
      },
      "outputs": [],
      "source": [
        "inputs = keras.Input(shape=(5, 5, 512))\n",
        "x = layers.Flatten()(inputs)\n",
        "x = layers.Dense(256)(x)\n",
        "x = layers.Dropout(0.5)(x)\n",
        "outputs = layers.Dense(1, activation=\"sigmoid\")(x)\n",
        "model = keras.Model(inputs, outputs)"
      ]
    },
    {
      "cell_type": "code",
      "execution_count": 18,
      "metadata": {
        "colab": {
          "base_uri": "https://localhost:8080/"
        },
        "id": "Uzo41C0w4Aet",
        "outputId": "07f847e6-90c7-4d69-cf76-0a3145d37fb6"
      },
      "outputs": [
        {
          "name": "stdout",
          "output_type": "stream",
          "text": [
            "Epoch 1/20\n",
            "63/63 [==============================] - 4s 54ms/step - loss: 20.8793 - accuracy: 0.9150 - val_loss: 4.9122 - val_accuracy: 0.9670\n",
            "Epoch 2/20\n",
            "63/63 [==============================] - 2s 38ms/step - loss: 3.1632 - accuracy: 0.9815 - val_loss: 10.3312 - val_accuracy: 0.9490\n",
            "Epoch 3/20\n",
            "63/63 [==============================] - 4s 60ms/step - loss: 2.5454 - accuracy: 0.9805 - val_loss: 11.6757 - val_accuracy: 0.9490\n",
            "Epoch 4/20\n",
            "63/63 [==============================] - 3s 55ms/step - loss: 1.5614 - accuracy: 0.9895 - val_loss: 9.1329 - val_accuracy: 0.9610\n",
            "Epoch 5/20\n",
            "63/63 [==============================] - 5s 76ms/step - loss: 0.9732 - accuracy: 0.9910 - val_loss: 8.7753 - val_accuracy: 0.9570\n",
            "Epoch 6/20\n",
            "63/63 [==============================] - 2s 38ms/step - loss: 0.9266 - accuracy: 0.9920 - val_loss: 4.2060 - val_accuracy: 0.9770\n",
            "Epoch 7/20\n",
            "63/63 [==============================] - 2s 39ms/step - loss: 0.3915 - accuracy: 0.9950 - val_loss: 8.8904 - val_accuracy: 0.9580\n",
            "Epoch 8/20\n",
            "63/63 [==============================] - 2s 37ms/step - loss: 1.1453 - accuracy: 0.9905 - val_loss: 5.7271 - val_accuracy: 0.9730\n",
            "Epoch 9/20\n",
            "63/63 [==============================] - 2s 38ms/step - loss: 8.8595e-15 - accuracy: 1.0000 - val_loss: 5.7271 - val_accuracy: 0.9730\n",
            "Epoch 10/20\n",
            "63/63 [==============================] - 3s 49ms/step - loss: 0.1876 - accuracy: 0.9980 - val_loss: 4.8480 - val_accuracy: 0.9820\n",
            "Epoch 11/20\n",
            "63/63 [==============================] - 2s 39ms/step - loss: 0.0426 - accuracy: 0.9985 - val_loss: 5.7438 - val_accuracy: 0.9730\n",
            "Epoch 12/20\n",
            "63/63 [==============================] - 3s 40ms/step - loss: 0.1772 - accuracy: 0.9985 - val_loss: 5.3221 - val_accuracy: 0.9740\n",
            "Epoch 13/20\n",
            "63/63 [==============================] - 2s 39ms/step - loss: 0.4188 - accuracy: 0.9975 - val_loss: 5.6599 - val_accuracy: 0.9740\n",
            "Epoch 14/20\n",
            "63/63 [==============================] - 3s 45ms/step - loss: 0.0718 - accuracy: 0.9985 - val_loss: 6.2573 - val_accuracy: 0.9730\n",
            "Epoch 15/20\n",
            "63/63 [==============================] - 3s 43ms/step - loss: 0.2450 - accuracy: 0.9995 - val_loss: 4.2906 - val_accuracy: 0.9750\n",
            "Epoch 16/20\n",
            "63/63 [==============================] - 2s 38ms/step - loss: 0.1022 - accuracy: 0.9985 - val_loss: 6.1537 - val_accuracy: 0.9690\n",
            "Epoch 17/20\n",
            "63/63 [==============================] - 2s 39ms/step - loss: 0.2798 - accuracy: 0.9975 - val_loss: 5.3067 - val_accuracy: 0.9750\n",
            "Epoch 18/20\n",
            "63/63 [==============================] - 2s 39ms/step - loss: 0.0478 - accuracy: 0.9990 - val_loss: 5.6540 - val_accuracy: 0.9740\n",
            "Epoch 19/20\n",
            "63/63 [==============================] - 3s 51ms/step - loss: 0.5409 - accuracy: 0.9960 - val_loss: 5.6120 - val_accuracy: 0.9750\n",
            "Epoch 20/20\n",
            "63/63 [==============================] - 2s 39ms/step - loss: 0.0192 - accuracy: 0.9995 - val_loss: 4.3241 - val_accuracy: 0.9790\n"
          ]
        }
      ],
      "source": [
        "import tensorflow as tf\n",
        "model.compile(loss=\"binary_crossentropy\",\n",
        "              optimizer=\"rmsprop\",\n",
        "              metrics=[\"accuracy\"])\n",
        "\n",
        "history = model.fit(\n",
        "    train_features, train_labels,\n",
        "    epochs=20,\n",
        "    validation_data=(val_features, val_labels))\n",
        "\n",
        "model.save(\"feature_extraction.keras\")"
      ]
    },
    {
      "cell_type": "code",
      "execution_count": null,
      "metadata": {
        "id": "5UGfMbE_51ix"
      },
      "outputs": [],
      "source": [
        "import matplotlib.pyplot as plt\n",
        "acc = history.history[\"accuracy\"]\n",
        "val_acc = history.history[\"val_accuracy\"]\n",
        "loss = history.history[\"loss\"]\n",
        "val_loss = history.history[\"val_loss\"]\n",
        "\n",
        "epochs = range(1, len(acc) + 1)\n",
        "plt.plot(epochs, acc, \"bo\", label=\"Training accuracy\")\n",
        "plt.plot(epochs, val_acc, \"b\", label=\"Validation accuracy\")\n",
        "plt.title(\"Training and Validation Accuracy\")\n",
        "plt.legend()\n",
        "plt.figure()\n",
        "plt.plot(epochs, loss, \"bo\", label=\"Training loss\")\n",
        "plt.plot(epochs, val_loss, \"b\", label=\"Validation loss\")\n",
        "plt.title(\"Training and Validation Loss\")\n",
        "plt.legend()\n",
        "plt.show()"
      ]
    },
    {
      "cell_type": "code",
      "execution_count": null,
      "metadata": {
        "id": "zJovaWA66QEk"
      },
      "outputs": [],
      "source": [
        "conv_base = keras.applications.vgg16.VGG16(\n",
        "    weights = \"imagenet\",\n",
        "    include_top = False\n",
        ")\n",
        "conv_base.trainable = False"
      ]
    },
    {
      "cell_type": "code",
      "execution_count": null,
      "metadata": {
        "id": "YT1viuiZ7d7F"
      },
      "outputs": [],
      "source": [
        "conv_base.trainable = True\n",
        "print(\"This is the number of trainable weights before freezing the conv base:\", len(conv_base.trainable_weights))\n",
        "conv_base.trainable = False\n",
        "print(\"This is the number of trainable weights after freezing the conv base:\", len(conv_base.trainable_weights))"
      ]
    },
    {
      "cell_type": "code",
      "execution_count": 22,
      "metadata": {
        "id": "dI-eAkIY8RsD"
      },
      "outputs": [],
      "source": [
        "data_augmentation = keras.Sequential(\n",
        "    [\n",
        "        layers.RandomFlip(\"horizontal\"),\n",
        "        layers.RandomRotation(0.1),\n",
        "        layers.RandomZoom(0.2),\n",
        "    ]\n",
        ")"
      ]
    },
    {
      "cell_type": "code",
      "execution_count": 23,
      "metadata": {
        "id": "eK2bZ-lE8Xpk"
      },
      "outputs": [],
      "source": [
        "inputs = keras.Input(shape=(180, 180, 3))\n",
        "x = data_augmentation(inputs)\n",
        "x = keras.applications.vgg16.preprocess_input(x)\n",
        "x = conv_base(x)\n",
        "x = layers.Flatten()(inputs)\n",
        "x = layers.Dense(256)(x)\n",
        "x = layers.Dropout(0.5)(x)\n",
        "\n",
        "outputs = layers.Dense(1, activation=\"sigmoid\")(x)\n",
        "model = keras.Model(inputs, outputs)\n",
        "\n",
        "model.compile(loss = \"binary_crossentropy\",\n",
        "              optimizer=\"rmsprop\",\n",
        "              metrics=[\"accuracy\"])"
      ]
    },
    {
      "cell_type": "code",
      "execution_count": 26,
      "metadata": {
        "colab": {
          "base_uri": "https://localhost:8080/"
        },
        "id": "7T7sRa7xKZbH",
        "outputId": "55191dba-f779-46cd-deca-03ac6bcf8047"
      },
      "outputs": [
        {
          "name": "stdout",
          "output_type": "stream",
          "text": [
            "Epoch 1/50\n",
            "63/63 [==============================] - 34s 524ms/step - loss: 28497.5000 - accuracy: 0.5210 - val_loss: 4528.6450 - val_accuracy: 0.5570\n",
            "Epoch 2/50\n",
            "63/63 [==============================] - 32s 505ms/step - loss: 19877.4492 - accuracy: 0.5225 - val_loss: 14525.3408 - val_accuracy: 0.5000\n",
            "Epoch 3/50\n",
            "63/63 [==============================] - 32s 498ms/step - loss: 12989.9248 - accuracy: 0.5230 - val_loss: 13266.3477 - val_accuracy: 0.5000\n",
            "Epoch 4/50\n",
            "63/63 [==============================] - 30s 474ms/step - loss: 7666.3442 - accuracy: 0.5135 - val_loss: 1198.3607 - val_accuracy: 0.5760\n",
            "Epoch 5/50\n",
            "63/63 [==============================] - 32s 502ms/step - loss: 3223.1758 - accuracy: 0.5130 - val_loss: 3006.1606 - val_accuracy: 0.5000\n",
            "Epoch 6/50\n",
            "63/63 [==============================] - 33s 521ms/step - loss: 1118.2512 - accuracy: 0.5165 - val_loss: 1173.0258 - val_accuracy: 0.5000\n",
            "Epoch 7/50\n",
            "63/63 [==============================] - 30s 474ms/step - loss: 498.1683 - accuracy: 0.5170 - val_loss: 180.6470 - val_accuracy: 0.5010\n",
            "Epoch 8/50\n",
            "63/63 [==============================] - 32s 497ms/step - loss: 512.5865 - accuracy: 0.5125 - val_loss: 1022.5125 - val_accuracy: 0.5000\n",
            "Epoch 9/50\n",
            "63/63 [==============================] - 30s 469ms/step - loss: 548.0418 - accuracy: 0.4920 - val_loss: 1004.9042 - val_accuracy: 0.5000\n",
            "Epoch 10/50\n",
            "63/63 [==============================] - 31s 486ms/step - loss: 527.1766 - accuracy: 0.5000 - val_loss: 135.8346 - val_accuracy: 0.5090\n",
            "Epoch 11/50\n",
            "63/63 [==============================] - 30s 468ms/step - loss: 547.5833 - accuracy: 0.4870 - val_loss: 537.4764 - val_accuracy: 0.5000\n",
            "Epoch 12/50\n",
            "63/63 [==============================] - 32s 506ms/step - loss: 535.2902 - accuracy: 0.4855 - val_loss: 600.5908 - val_accuracy: 0.5000\n",
            "Epoch 13/50\n",
            "63/63 [==============================] - 29s 463ms/step - loss: 535.6794 - accuracy: 0.4795 - val_loss: 491.0952 - val_accuracy: 0.5000\n",
            "Epoch 14/50\n",
            "63/63 [==============================] - 32s 502ms/step - loss: 539.8874 - accuracy: 0.4930 - val_loss: 340.3939 - val_accuracy: 0.5030\n",
            "Epoch 15/50\n",
            "63/63 [==============================] - 32s 497ms/step - loss: 520.8369 - accuracy: 0.4960 - val_loss: 489.0083 - val_accuracy: 0.5000\n",
            "Epoch 16/50\n",
            "63/63 [==============================] - 29s 460ms/step - loss: 508.5457 - accuracy: 0.5160 - val_loss: 226.6010 - val_accuracy: 0.5040\n",
            "Epoch 17/50\n",
            "63/63 [==============================] - 29s 465ms/step - loss: 512.7949 - accuracy: 0.5220 - val_loss: 502.2731 - val_accuracy: 0.5000\n",
            "Epoch 18/50\n",
            "63/63 [==============================] - 32s 505ms/step - loss: 515.9809 - accuracy: 0.5125 - val_loss: 453.4918 - val_accuracy: 0.5040\n",
            "Epoch 19/50\n",
            "63/63 [==============================] - 32s 509ms/step - loss: 529.1745 - accuracy: 0.5095 - val_loss: 194.6086 - val_accuracy: 0.4980\n",
            "Epoch 20/50\n",
            "63/63 [==============================] - 29s 463ms/step - loss: 533.8676 - accuracy: 0.5015 - val_loss: 584.2272 - val_accuracy: 0.5000\n",
            "Epoch 21/50\n",
            "63/63 [==============================] - 32s 502ms/step - loss: 528.4752 - accuracy: 0.4920 - val_loss: 402.6035 - val_accuracy: 0.5000\n",
            "Epoch 22/50\n",
            "63/63 [==============================] - 32s 509ms/step - loss: 545.0474 - accuracy: 0.5010 - val_loss: 227.0926 - val_accuracy: 0.5070\n",
            "Epoch 23/50\n",
            "63/63 [==============================] - 32s 501ms/step - loss: 544.2430 - accuracy: 0.4910 - val_loss: 195.4012 - val_accuracy: 0.4850\n",
            "Epoch 24/50\n",
            "63/63 [==============================] - 29s 462ms/step - loss: 543.6469 - accuracy: 0.4985 - val_loss: 204.9389 - val_accuracy: 0.5070\n",
            "Epoch 25/50\n",
            "63/63 [==============================] - 29s 463ms/step - loss: 537.3151 - accuracy: 0.4965 - val_loss: 372.9601 - val_accuracy: 0.4940\n",
            "Epoch 26/50\n",
            "63/63 [==============================] - 32s 500ms/step - loss: 528.7140 - accuracy: 0.5055 - val_loss: 480.3721 - val_accuracy: 0.5050\n",
            "Epoch 27/50\n",
            "63/63 [==============================] - 32s 513ms/step - loss: 528.2184 - accuracy: 0.5160 - val_loss: 657.0369 - val_accuracy: 0.4990\n",
            "Epoch 28/50\n",
            "63/63 [==============================] - 32s 509ms/step - loss: 567.4034 - accuracy: 0.4985 - val_loss: 196.7031 - val_accuracy: 0.5060\n",
            "Epoch 29/50\n",
            "63/63 [==============================] - 29s 461ms/step - loss: 519.3942 - accuracy: 0.5085 - val_loss: 139.6184 - val_accuracy: 0.4870\n",
            "Epoch 30/50\n",
            "63/63 [==============================] - 31s 482ms/step - loss: 526.4046 - accuracy: 0.5035 - val_loss: 333.6959 - val_accuracy: 0.5020\n",
            "Epoch 31/50\n",
            "63/63 [==============================] - 32s 497ms/step - loss: 539.9221 - accuracy: 0.5140 - val_loss: 1035.6145 - val_accuracy: 0.5000\n",
            "Epoch 32/50\n",
            "63/63 [==============================] - 30s 465ms/step - loss: 538.3146 - accuracy: 0.5110 - val_loss: 210.3407 - val_accuracy: 0.5000\n",
            "Epoch 33/50\n",
            "63/63 [==============================] - 30s 466ms/step - loss: 508.7910 - accuracy: 0.5140 - val_loss: 783.3780 - val_accuracy: 0.5000\n",
            "Epoch 34/50\n",
            "63/63 [==============================] - 32s 503ms/step - loss: 545.4910 - accuracy: 0.5045 - val_loss: 769.9821 - val_accuracy: 0.5010\n",
            "Epoch 35/50\n",
            "63/63 [==============================] - 33s 518ms/step - loss: 544.9685 - accuracy: 0.4880 - val_loss: 392.4415 - val_accuracy: 0.4920\n",
            "Epoch 36/50\n",
            "63/63 [==============================] - 30s 478ms/step - loss: 548.5550 - accuracy: 0.4860 - val_loss: 892.9165 - val_accuracy: 0.5120\n",
            "Epoch 37/50\n",
            "63/63 [==============================] - 32s 506ms/step - loss: 525.0081 - accuracy: 0.5125 - val_loss: 422.6539 - val_accuracy: 0.4990\n",
            "Epoch 38/50\n",
            "63/63 [==============================] - 31s 489ms/step - loss: 567.1592 - accuracy: 0.4890 - val_loss: 370.0233 - val_accuracy: 0.5030\n",
            "Epoch 39/50\n",
            "63/63 [==============================] - 30s 467ms/step - loss: 505.5383 - accuracy: 0.5175 - val_loss: 445.8944 - val_accuracy: 0.5010\n",
            "Epoch 40/50\n",
            "63/63 [==============================] - 30s 470ms/step - loss: 534.2128 - accuracy: 0.4985 - val_loss: 638.9178 - val_accuracy: 0.5000\n",
            "Epoch 41/50\n",
            "63/63 [==============================] - 32s 511ms/step - loss: 511.7316 - accuracy: 0.5160 - val_loss: 543.5350 - val_accuracy: 0.5010\n",
            "Epoch 42/50\n",
            "63/63 [==============================] - 33s 516ms/step - loss: 556.8194 - accuracy: 0.5125 - val_loss: 868.3007 - val_accuracy: 0.5030\n",
            "Epoch 43/50\n",
            "63/63 [==============================] - 33s 514ms/step - loss: 550.1943 - accuracy: 0.5130 - val_loss: 730.8990 - val_accuracy: 0.5000\n",
            "Epoch 44/50\n",
            "63/63 [==============================] - 33s 514ms/step - loss: 529.9652 - accuracy: 0.5025 - val_loss: 435.0103 - val_accuracy: 0.5200\n",
            "Epoch 45/50\n",
            "63/63 [==============================] - 31s 490ms/step - loss: 489.7249 - accuracy: 0.5300 - val_loss: 1175.8297 - val_accuracy: 0.5000\n",
            "Epoch 46/50\n",
            "63/63 [==============================] - 33s 512ms/step - loss: 523.8427 - accuracy: 0.5250 - val_loss: 573.3195 - val_accuracy: 0.5000\n",
            "Epoch 47/50\n",
            "63/63 [==============================] - 31s 491ms/step - loss: 523.4206 - accuracy: 0.5195 - val_loss: 112.2388 - val_accuracy: 0.5770\n",
            "Epoch 48/50\n",
            "63/63 [==============================] - 31s 496ms/step - loss: 562.2688 - accuracy: 0.5065 - val_loss: 281.3493 - val_accuracy: 0.4910\n",
            "Epoch 49/50\n",
            "63/63 [==============================] - 31s 490ms/step - loss: 539.7584 - accuracy: 0.4875 - val_loss: 700.3231 - val_accuracy: 0.5000\n",
            "Epoch 50/50\n",
            "63/63 [==============================] - 30s 468ms/step - loss: 537.6848 - accuracy: 0.5055 - val_loss: 208.7079 - val_accuracy: 0.5340\n"
          ]
        }
      ],
      "source": [
        "callbacks = [\n",
        "    keras.callbacks.ModelCheckpoint(\n",
        "        filepath=\"feature_extraction_with_data_augmentation\",\n",
        "        save_best_only=True,\n",
        "        monitor=\"val_loss\"\n",
        "    )\n",
        "]\n",
        "history = model.fit(\n",
        "    train_dataset,\n",
        "    epochs=50,\n",
        "    validation_data=validation_dataset,\n",
        "    callbacks=callbacks)"
      ]
    },
    {
      "cell_type": "code",
      "execution_count": 28,
      "metadata": {
        "colab": {
          "base_uri": "https://localhost:8080/"
        },
        "id": "27eCWkOiLd_G",
        "outputId": "59f07816-a73c-4daf-fc6c-67be2c292fdc"
      },
      "outputs": [
        {
          "name": "stdout",
          "output_type": "stream",
          "text": [
            "63/63 [==============================] - 7s 91ms/step - loss: 107.4978 - accuracy: 0.5755\n",
            "Test accuracy:  0.576\n"
          ]
        }
      ],
      "source": [
        "test_model = keras.models.load_model(\n",
        "    \"feature_extraction_with_data_augmentation\")\n",
        "test_loss, test_acc = test_model.evaluate(test_dataset)\n",
        "print(f\"Test accuracy: {test_acc: .3f}\")"
      ]
    },
    {
      "cell_type": "code",
      "execution_count": 29,
      "metadata": {
        "colab": {
          "base_uri": "https://localhost:8080/"
        },
        "id": "WCd0SDHLMOWA",
        "outputId": "ded7e1ac-5151-4fa4-ae02-d600c3bd0158"
      },
      "outputs": [
        {
          "name": "stdout",
          "output_type": "stream",
          "text": [
            "Model: \"vgg16\"\n",
            "_________________________________________________________________\n",
            " Layer (type)                Output Shape              Param #   \n",
            "=================================================================\n",
            " input_3 (InputLayer)        [(None, None, None, 3)]   0         \n",
            "                                                                 \n",
            " block1_conv1 (Conv2D)       (None, None, None, 64)    1792      \n",
            "                                                                 \n",
            " block1_conv2 (Conv2D)       (None, None, None, 64)    36928     \n",
            "                                                                 \n",
            " block1_pool (MaxPooling2D)  (None, None, None, 64)    0         \n",
            "                                                                 \n",
            " block2_conv1 (Conv2D)       (None, None, None, 128)   73856     \n",
            "                                                                 \n",
            " block2_conv2 (Conv2D)       (None, None, None, 128)   147584    \n",
            "                                                                 \n",
            " block2_pool (MaxPooling2D)  (None, None, None, 128)   0         \n",
            "                                                                 \n",
            " block3_conv1 (Conv2D)       (None, None, None, 256)   295168    \n",
            "                                                                 \n",
            " block3_conv2 (Conv2D)       (None, None, None, 256)   590080    \n",
            "                                                                 \n",
            " block3_conv3 (Conv2D)       (None, None, None, 256)   590080    \n",
            "                                                                 \n",
            " block3_pool (MaxPooling2D)  (None, None, None, 256)   0         \n",
            "                                                                 \n",
            " block4_conv1 (Conv2D)       (None, None, None, 512)   1180160   \n",
            "                                                                 \n",
            " block4_conv2 (Conv2D)       (None, None, None, 512)   2359808   \n",
            "                                                                 \n",
            " block4_conv3 (Conv2D)       (None, None, None, 512)   2359808   \n",
            "                                                                 \n",
            " block4_pool (MaxPooling2D)  (None, None, None, 512)   0         \n",
            "                                                                 \n",
            " block5_conv1 (Conv2D)       (None, None, None, 512)   2359808   \n",
            "                                                                 \n",
            " block5_conv2 (Conv2D)       (None, None, None, 512)   2359808   \n",
            "                                                                 \n",
            " block5_conv3 (Conv2D)       (None, None, None, 512)   2359808   \n",
            "                                                                 \n",
            " block5_pool (MaxPooling2D)  (None, None, None, 512)   0         \n",
            "                                                                 \n",
            "=================================================================\n",
            "Total params: 14714688 (56.13 MB)\n",
            "Trainable params: 0 (0.00 Byte)\n",
            "Non-trainable params: 14714688 (56.13 MB)\n",
            "_________________________________________________________________\n"
          ]
        }
      ],
      "source": [
        "conv_base.summary()"
      ]
    },
    {
      "cell_type": "code",
      "execution_count": 30,
      "metadata": {
        "id": "guYISPKIMPrU"
      },
      "outputs": [],
      "source": [
        "conv_base.trainable = True\n",
        "for layer in conv_base.layers[:-4]:\n",
        "    layer.trainable = False"
      ]
    },
    {
      "cell_type": "code",
      "execution_count": 32,
      "metadata": {
        "colab": {
          "base_uri": "https://localhost:8080/"
        },
        "id": "AZHfLqYPMTNh",
        "outputId": "aafc54a6-1e0e-4d1a-94c2-438939e179a6"
      },
      "outputs": [
        {
          "name": "stdout",
          "output_type": "stream",
          "text": [
            "Epoch 1/30\n",
            "63/63 [==============================] - 35s 536ms/step - loss: 27.8272 - accuracy: 0.5610 - val_loss: 13.8259 - val_accuracy: 0.5570\n",
            "Epoch 2/30\n",
            "63/63 [==============================] - 33s 522ms/step - loss: 20.3436 - accuracy: 0.5715 - val_loss: 9.1938 - val_accuracy: 0.5490\n",
            "Epoch 3/30\n",
            "63/63 [==============================] - 33s 513ms/step - loss: 14.9468 - accuracy: 0.5770 - val_loss: 8.9828 - val_accuracy: 0.5550\n",
            "Epoch 4/30\n",
            "63/63 [==============================] - 33s 518ms/step - loss: 11.5327 - accuracy: 0.5655 - val_loss: 5.1330 - val_accuracy: 0.5360\n",
            "Epoch 5/30\n",
            "63/63 [==============================] - 85s 1s/step - loss: 7.7426 - accuracy: 0.6015 - val_loss: 4.9647 - val_accuracy: 0.5590\n",
            "Epoch 6/30\n",
            "63/63 [==============================] - 32s 498ms/step - loss: 5.0041 - accuracy: 0.5830 - val_loss: 2.1282 - val_accuracy: 0.5420\n",
            "Epoch 7/30\n",
            "63/63 [==============================] - 33s 523ms/step - loss: 3.1354 - accuracy: 0.5895 - val_loss: 2.0814 - val_accuracy: 0.5200\n",
            "Epoch 8/30\n",
            "63/63 [==============================] - 34s 544ms/step - loss: 2.5264 - accuracy: 0.5750 - val_loss: 2.0751 - val_accuracy: 0.5450\n",
            "Epoch 9/30\n",
            "63/63 [==============================] - 32s 488ms/step - loss: 2.1944 - accuracy: 0.5675 - val_loss: 2.1279 - val_accuracy: 0.5500\n",
            "Epoch 10/30\n",
            "63/63 [==============================] - 35s 557ms/step - loss: 2.0058 - accuracy: 0.5730 - val_loss: 1.8257 - val_accuracy: 0.5640\n",
            "Epoch 11/30\n",
            "63/63 [==============================] - 34s 538ms/step - loss: 2.1687 - accuracy: 0.5555 - val_loss: 1.7660 - val_accuracy: 0.5240\n",
            "Epoch 12/30\n",
            "63/63 [==============================] - 32s 507ms/step - loss: 1.9047 - accuracy: 0.5820 - val_loss: 2.1743 - val_accuracy: 0.4840\n",
            "Epoch 13/30\n",
            "63/63 [==============================] - 34s 542ms/step - loss: 2.0065 - accuracy: 0.5740 - val_loss: 2.9807 - val_accuracy: 0.4880\n",
            "Epoch 14/30\n",
            "63/63 [==============================] - 32s 494ms/step - loss: 1.8785 - accuracy: 0.5795 - val_loss: 1.7468 - val_accuracy: 0.5280\n",
            "Epoch 15/30\n",
            "63/63 [==============================] - 33s 519ms/step - loss: 1.8039 - accuracy: 0.5895 - val_loss: 2.1963 - val_accuracy: 0.5590\n",
            "Epoch 16/30\n",
            "63/63 [==============================] - 33s 519ms/step - loss: 1.9871 - accuracy: 0.5775 - val_loss: 1.4298 - val_accuracy: 0.5020\n",
            "Epoch 17/30\n",
            "63/63 [==============================] - 34s 529ms/step - loss: 1.9874 - accuracy: 0.5830 - val_loss: 6.1434 - val_accuracy: 0.4380\n",
            "Epoch 18/30\n",
            "63/63 [==============================] - 32s 500ms/step - loss: 2.0856 - accuracy: 0.5790 - val_loss: 1.4158 - val_accuracy: 0.5340\n",
            "Epoch 19/30\n",
            "63/63 [==============================] - 33s 522ms/step - loss: 1.9683 - accuracy: 0.5620 - val_loss: 2.0672 - val_accuracy: 0.5190\n",
            "Epoch 20/30\n",
            "63/63 [==============================] - 33s 528ms/step - loss: 1.8350 - accuracy: 0.5805 - val_loss: 1.7489 - val_accuracy: 0.5080\n",
            "Epoch 21/30\n",
            "63/63 [==============================] - 33s 524ms/step - loss: 2.0389 - accuracy: 0.5640 - val_loss: 2.8488 - val_accuracy: 0.5740\n",
            "Epoch 22/30\n",
            "63/63 [==============================] - 34s 529ms/step - loss: 2.0015 - accuracy: 0.5755 - val_loss: 1.3324 - val_accuracy: 0.5640\n",
            "Epoch 23/30\n",
            "63/63 [==============================] - 34s 530ms/step - loss: 1.8805 - accuracy: 0.5780 - val_loss: 3.2541 - val_accuracy: 0.4260\n",
            "Epoch 24/30\n",
            "63/63 [==============================] - 33s 523ms/step - loss: 1.9344 - accuracy: 0.5695 - val_loss: 2.6445 - val_accuracy: 0.5470\n",
            "Epoch 25/30\n",
            "63/63 [==============================] - 33s 528ms/step - loss: 1.9215 - accuracy: 0.5770 - val_loss: 1.7304 - val_accuracy: 0.4850\n",
            "Epoch 26/30\n",
            "63/63 [==============================] - 33s 519ms/step - loss: 1.9369 - accuracy: 0.5805 - val_loss: 1.4773 - val_accuracy: 0.4900\n",
            "Epoch 27/30\n",
            "63/63 [==============================] - 33s 519ms/step - loss: 1.9968 - accuracy: 0.5770 - val_loss: 2.1808 - val_accuracy: 0.5660\n",
            "Epoch 28/30\n",
            "63/63 [==============================] - 33s 520ms/step - loss: 1.7817 - accuracy: 0.5825 - val_loss: 2.1820 - val_accuracy: 0.5640\n",
            "Epoch 29/30\n",
            "63/63 [==============================] - 35s 545ms/step - loss: 2.0092 - accuracy: 0.5660 - val_loss: 1.3535 - val_accuracy: 0.5180\n",
            "Epoch 30/30\n",
            "63/63 [==============================] - 32s 502ms/step - loss: 1.9615 - accuracy: 0.5750 - val_loss: 1.9510 - val_accuracy: 0.5590\n"
          ]
        }
      ],
      "source": [
        "model.compile(loss=\"binary_crossentropy\",\n",
        "              optimizer=keras.optimizers.RMSprop(learning_rate=1e-5),\n",
        "              metrics=[\"accuracy\"])\n",
        "\n",
        "callbacks = [\n",
        "    keras.callbacks.ModelCheckpoint(\n",
        "        filepath=\"fine_tuning\",\n",
        "        save_best_only=True,\n",
        "        monitor=\"val_loss\")\n",
        "]\n",
        "history = model.fit(\n",
        "    train_dataset,\n",
        "    epochs=30,\n",
        "    validation_data=validation_dataset,\n",
        "    callbacks=callbacks)"
      ]
    },
    {
      "cell_type": "code",
      "execution_count": 34,
      "metadata": {
        "colab": {
          "base_uri": "https://localhost:8080/"
        },
        "id": "nK3R63E8MVO4",
        "outputId": "0b19314e-0b6e-43fe-ff19-02a90325289b"
      },
      "outputs": [
        {
          "name": "stdout",
          "output_type": "stream",
          "text": [
            "63/63 [==============================] - 6s 85ms/step - loss: 1.2883 - accuracy: 0.5730\n",
            "Test accuracy: 0.573\n"
          ]
        }
      ],
      "source": [
        "model = keras.models.load_model(\"fine_tuning\")\n",
        "test_loss, test_acc = model.evaluate(test_dataset)\n",
        "print(f\"Test accuracy: {test_acc:.3f}\")"
      ]
    }
  ],
  "metadata": {
    "colab": {
      "provenance": []
    },
    "kernelspec": {
      "display_name": "Python 3",
      "name": "python3"
    },
    "language_info": {
      "name": "python"
    }
  },
  "nbformat": 4,
  "nbformat_minor": 0
}
