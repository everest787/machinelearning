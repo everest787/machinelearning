{
  "cells": [
    {
      "cell_type": "code",
      "execution_count": null,
      "metadata": {
        "colab": {
          "base_uri": "https://localhost:8080/",
          "height": 91
        },
        "id": "JZBoievfhRXu",
        "outputId": "1d45ea30-7370-405a-db98-866ae958db12"
      },
      "outputs": [],
      "source": [
        "from google.colab import files\n",
        "files.upload()"
      ]
    },
    {
      "cell_type": "code",
      "execution_count": 3,
      "metadata": {
        "id": "XyEIrTA3hSey"
      },
      "outputs": [],
      "source": [
        "!mkdir ~/.kaggle\n",
        "!cp kaggle.json ~/.kaggle/\n",
        "!chmod 600 ~/.kaggle/kaggle.json"
      ]
    },
    {
      "cell_type": "code",
      "execution_count": 5,
      "metadata": {
        "colab": {
          "base_uri": "https://localhost:8080/"
        },
        "id": "7mryPHZQh8Pg",
        "outputId": "c0e023fd-85a4-418e-a82d-e01bfbf4b88d"
      },
      "outputs": [
        {
          "name": "stdout",
          "output_type": "stream",
          "text": [
            "Downloading dogs-vs-cats.zip to /content\n",
            " 99% 807M/812M [00:20<00:00, 41.0MB/s]\n",
            "100% 812M/812M [00:20<00:00, 41.5MB/s]\n"
          ]
        }
      ],
      "source": [
        "!kaggle competitions download -c dogs-vs-cats"
      ]
    },
    {
      "cell_type": "code",
      "execution_count": 6,
      "metadata": {
        "id": "52FOZ4LMiMka"
      },
      "outputs": [],
      "source": [
        "!unzip -qq dogs-vs-cats.zip"
      ]
    },
    {
      "cell_type": "code",
      "execution_count": 7,
      "metadata": {
        "id": "DGcSLMXO67Bg"
      },
      "outputs": [],
      "source": [
        "!unzip -qq train.zip"
      ]
    },
    {
      "cell_type": "code",
      "execution_count": 9,
      "metadata": {
        "id": "FUfEFTk-3HV8"
      },
      "outputs": [],
      "source": [
        "import os, shutil, pathlib\n",
        "\n",
        "original_dir = pathlib.Path(\"train\")\n",
        "new_base_dir = pathlib.Path(\"cats_vs_dogs_small\")"
      ]
    },
    {
      "cell_type": "markdown",
      "metadata": {
        "id": "MdDdyuLo13qa"
      },
      "source": [
        "Utility function to copy cat and dog images from index start_index to index end_index to the subdirectory new_base_dir/{subset_name}/cat (and /dog). The \"subset_name\" will be either \"train\", \"validation\", or \"test\""
      ]
    },
    {
      "cell_type": "code",
      "execution_count": 10,
      "metadata": {
        "id": "Nt-e_GjO3t0t"
      },
      "outputs": [],
      "source": [
        "def make_subset (subset_name, start_index, end_index):\n",
        "  for category in (\"cat\", \"dog\"):\n",
        "    dir = new_base_dir / subset_name / category\n",
        "    os.makedirs(dir)\n",
        "    fnames = [f\"{category}.{i}.jpg\"\n",
        "              for i in range(start_index, end_index)]\n",
        "    for fname in fnames:\n",
        "      shutil.copyfile(src = original_dir / fname,\n",
        "                      dst = dir / fname)"
      ]
    },
    {
      "cell_type": "code",
      "execution_count": 11,
      "metadata": {
        "id": "U1ra2ZlB6eRe"
      },
      "outputs": [],
      "source": [
        "make_subset(\"train\", start_index=0, end_index=1000)\n",
        "make_subset(\"validation\", start_index=1000, end_index=1500)\n",
        "make_subset(\"test\", start_index=1500, end_index=2500)"
      ]
    },
    {
      "cell_type": "code",
      "execution_count": 12,
      "metadata": {
        "id": "-dBXlNyb7iIl"
      },
      "outputs": [],
      "source": [
        "from tensorflow import keras\n",
        "from tensorflow.keras import layers"
      ]
    },
    {
      "cell_type": "markdown",
      "metadata": {
        "id": "0mhP1_VK3Nfa"
      },
      "source": [
        "A convnet stack of alternated Conv2D (with relu activation) and MaxPooling2D layers\n",
        "\n",
        "Rescaling layer rescales image inputs (whose values are originally in the [0,255] range) to the [0,1] range\n",
        "\n",
        "Because this is a binary classification problem, we'll end the model with a single unit (a Dense layer of size 1) and a sigmoid activation"
      ]
    },
    {
      "cell_type": "code",
      "execution_count": 20,
      "metadata": {
        "id": "3wdKSLhb72Xm"
      },
      "outputs": [],
      "source": [
        "inputs = keras.Input(shape=(180, 180, 3))\n",
        "x = layers.Rescaling(1./255)(inputs)\n",
        "x = layers.Conv2D(filters=32, kernel_size=3, activation=\"relu\")(x)\n",
        "x = layers.MaxPooling2D(pool_size=2)(x)\n",
        "x = layers.Conv2D(filters=64, kernel_size=3, activation=\"relu\")(x)\n",
        "x = layers.MaxPooling2D(pool_size=2)(x)\n",
        "x = layers.Conv2D(filters=128, kernel_size=3, activation=\"relu\")(x)\n",
        "x = layers.MaxPooling2D(pool_size=2)(x)\n",
        "x = layers.Conv2D(filters=256, kernel_size=3, activation=\"relu\")(x)\n",
        "x = layers.MaxPooling2D(pool_size=2)(x)\n",
        "x = layers.Conv2D(filters=256, kernel_size=3, activation=\"relu\")(x)\n",
        "x = layers.MaxPooling2D(pool_size=2)(x)\n",
        "x = layers.Flatten()(x)\n",
        "\n",
        "outputs = layers.Dense(1, activation=\"sigmoid\")(x)\n",
        "model = keras.Model(inputs=inputs, outputs=outputs)"
      ]
    },
    {
      "cell_type": "code",
      "execution_count": 14,
      "metadata": {
        "colab": {
          "base_uri": "https://localhost:8080/"
        },
        "id": "qVefCBOn_IRn",
        "outputId": "d620226f-bea5-4f0a-f072-1be8659d4715"
      },
      "outputs": [
        {
          "name": "stdout",
          "output_type": "stream",
          "text": [
            "Model: \"model\"\n",
            "_________________________________________________________________\n",
            " Layer (type)                Output Shape              Param #   \n",
            "=================================================================\n",
            " input_1 (InputLayer)        [(None, 180, 180, 3)]     0         \n",
            "                                                                 \n",
            " rescaling (Rescaling)       (None, 180, 180, 3)       0         \n",
            "                                                                 \n",
            " conv2d (Conv2D)             (None, 178, 178, 32)      896       \n",
            "                                                                 \n",
            " max_pooling2d (MaxPooling2D  (None, 89, 89, 32)       0         \n",
            " )                                                               \n",
            "                                                                 \n",
            " conv2d_1 (Conv2D)           (None, 87, 87, 64)        18496     \n",
            "                                                                 \n",
            " max_pooling2d_1 (MaxPooling  (None, 43, 43, 64)       0         \n",
            " 2D)                                                             \n",
            "                                                                 \n",
            " conv2d_2 (Conv2D)           (None, 41, 41, 128)       73856     \n",
            "                                                                 \n",
            " max_pooling2d_2 (MaxPooling  (None, 20, 20, 128)      0         \n",
            " 2D)                                                             \n",
            "                                                                 \n",
            " conv2d_3 (Conv2D)           (None, 18, 18, 256)       295168    \n",
            "                                                                 \n",
            " max_pooling2d_3 (MaxPooling  (None, 9, 9, 256)        0         \n",
            " 2D)                                                             \n",
            "                                                                 \n",
            " conv2d_4 (Conv2D)           (None, 7, 7, 256)         590080    \n",
            "                                                                 \n",
            " max_pooling2d_4 (MaxPooling  (None, 3, 3, 256)        0         \n",
            " 2D)                                                             \n",
            "                                                                 \n",
            " flatten (Flatten)           (None, 2304)              0         \n",
            "                                                                 \n",
            " dense (Dense)               (None, 1)                 2305      \n",
            "                                                                 \n",
            "=================================================================\n",
            "Total params: 980,801\n",
            "Trainable params: 980,801\n",
            "Non-trainable params: 0\n",
            "_________________________________________________________________\n"
          ]
        }
      ],
      "source": [
        "model.summary()"
      ]
    },
    {
      "cell_type": "code",
      "execution_count": 21,
      "metadata": {
        "id": "Hs0Tnd0r_awd"
      },
      "outputs": [],
      "source": [
        "model.compile(loss=\"binary_crossentropy\",\n",
        "              optimizer=\"rmsprop\",\n",
        "              metrics=[\"accuracy\"])"
      ]
    },
    {
      "cell_type": "code",
      "execution_count": 16,
      "metadata": {
        "colab": {
          "base_uri": "https://localhost:8080/"
        },
        "id": "yoplrJeJ_6pR",
        "outputId": "6e4a1daa-cef3-43f7-efc8-ee3632431884"
      },
      "outputs": [
        {
          "name": "stdout",
          "output_type": "stream",
          "text": [
            "Found 2000 files belonging to 2 classes.\n",
            "Found 1000 files belonging to 2 classes.\n",
            "Found 2000 files belonging to 2 classes.\n"
          ]
        }
      ],
      "source": [
        "from tensorflow.keras.utils import image_dataset_from_directory\n",
        "\n",
        "train_dataset = image_dataset_from_directory(\n",
        "    new_base_dir / \"train\",\n",
        "    image_size=(180, 180),\n",
        "    batch_size=32\n",
        ")\n",
        "validation_dataset = image_dataset_from_directory(\n",
        "    new_base_dir / \"validation\",\n",
        "    image_size=(180, 180),\n",
        "    batch_size=32\n",
        ")\n",
        "test_dataset = image_dataset_from_directory(\n",
        "    new_base_dir / \"test\",\n",
        "    image_size=(180, 180),\n",
        "    batch_size=32\n",
        ")"
      ]
    },
    {
      "cell_type": "code",
      "execution_count": 17,
      "metadata": {
        "colab": {
          "base_uri": "https://localhost:8080/"
        },
        "id": "QFaaEH--iqaL",
        "outputId": "9b2404a1-6bc9-483e-a2b3-d839461bf783"
      },
      "outputs": [
        {
          "name": "stdout",
          "output_type": "stream",
          "text": [
            "data batch shape: (32, 180, 180, 3)\n",
            "labels batch shape: (32,)\n"
          ]
        }
      ],
      "source": [
        "for data_batch, labels_batch in train_dataset:\n",
        "  print(\"data batch shape:\", data_batch.shape)\n",
        "  print(\"labels batch shape:\", labels_batch.shape)\n",
        "  break"
      ]
    },
    {
      "cell_type": "code",
      "execution_count": 19,
      "metadata": {
        "colab": {
          "base_uri": "https://localhost:8080/"
        },
        "id": "aDyLWnQsjJbY",
        "outputId": "f77bcbb7-e1ac-470d-a17e-bd57a229aac0"
      },
      "outputs": [
        {
          "name": "stdout",
          "output_type": "stream",
          "text": [
            "Epoch 1/30\n",
            "63/63 [==============================] - 236s 4s/step - loss: 0.6975 - accuracy: 0.5075 - val_loss: 0.6919 - val_accuracy: 0.5380\n",
            "Epoch 2/30\n",
            "63/63 [==============================] - 220s 3s/step - loss: 0.6933 - accuracy: 0.5335 - val_loss: 0.6898 - val_accuracy: 0.5150\n",
            "Epoch 3/30\n",
            "63/63 [==============================] - 201s 3s/step - loss: 0.6820 - accuracy: 0.5615 - val_loss: 0.6594 - val_accuracy: 0.5900\n",
            "Epoch 4/30\n",
            "63/63 [==============================] - 238s 4s/step - loss: 0.6401 - accuracy: 0.6365 - val_loss: 0.6399 - val_accuracy: 0.6170\n",
            "Epoch 5/30\n",
            "63/63 [==============================] - 212s 3s/step - loss: 0.5845 - accuracy: 0.6895 - val_loss: 0.6115 - val_accuracy: 0.6600\n",
            "Epoch 6/30\n",
            "63/63 [==============================] - 243s 4s/step - loss: 0.5606 - accuracy: 0.7155 - val_loss: 0.6604 - val_accuracy: 0.6350\n",
            "Epoch 7/30\n",
            "63/63 [==============================] - 216s 3s/step - loss: 0.5307 - accuracy: 0.7365 - val_loss: 0.6208 - val_accuracy: 0.6860\n",
            "Epoch 8/30\n",
            "63/63 [==============================] - 200s 3s/step - loss: 0.5014 - accuracy: 0.7555 - val_loss: 0.6211 - val_accuracy: 0.6750\n",
            "Epoch 9/30\n",
            "63/63 [==============================] - 182s 3s/step - loss: 0.4642 - accuracy: 0.7855 - val_loss: 0.6298 - val_accuracy: 0.7040\n",
            "Epoch 10/30\n",
            "63/63 [==============================] - 198s 3s/step - loss: 0.4173 - accuracy: 0.8075 - val_loss: 0.5919 - val_accuracy: 0.7240\n",
            "Epoch 11/30\n",
            "63/63 [==============================] - 198s 3s/step - loss: 0.3714 - accuracy: 0.8260 - val_loss: 0.6697 - val_accuracy: 0.7400\n",
            "Epoch 12/30\n",
            "63/63 [==============================] - 200s 3s/step - loss: 0.3143 - accuracy: 0.8655 - val_loss: 0.6977 - val_accuracy: 0.7240\n",
            "Epoch 13/30\n",
            "63/63 [==============================] - 203s 3s/step - loss: 0.2450 - accuracy: 0.8955 - val_loss: 0.8401 - val_accuracy: 0.7110\n",
            "Epoch 14/30\n",
            "63/63 [==============================] - 217s 3s/step - loss: 0.2032 - accuracy: 0.9130 - val_loss: 0.8917 - val_accuracy: 0.6960\n",
            "Epoch 15/30\n",
            "63/63 [==============================] - 209s 3s/step - loss: 0.1426 - accuracy: 0.9440 - val_loss: 1.2780 - val_accuracy: 0.6670\n",
            "Epoch 16/30\n",
            "63/63 [==============================] - 221s 4s/step - loss: 0.1173 - accuracy: 0.9555 - val_loss: 1.2988 - val_accuracy: 0.6770\n",
            "Epoch 17/30\n",
            "63/63 [==============================] - 229s 4s/step - loss: 0.0982 - accuracy: 0.9635 - val_loss: 1.2992 - val_accuracy: 0.6870\n",
            "Epoch 18/30\n",
            "63/63 [==============================] - 223s 4s/step - loss: 0.0860 - accuracy: 0.9700 - val_loss: 1.1985 - val_accuracy: 0.7230\n",
            "Epoch 19/30\n",
            "63/63 [==============================] - 221s 4s/step - loss: 0.0760 - accuracy: 0.9730 - val_loss: 1.4530 - val_accuracy: 0.7030\n",
            "Epoch 20/30\n",
            "63/63 [==============================] - 269s 4s/step - loss: 0.0509 - accuracy: 0.9850 - val_loss: 1.5546 - val_accuracy: 0.6970\n",
            "Epoch 21/30\n",
            "63/63 [==============================] - 246s 4s/step - loss: 0.0729 - accuracy: 0.9760 - val_loss: 1.6561 - val_accuracy: 0.7060\n",
            "Epoch 22/30\n",
            "63/63 [==============================] - 269s 4s/step - loss: 0.0639 - accuracy: 0.9775 - val_loss: 1.5799 - val_accuracy: 0.7110\n",
            "Epoch 23/30\n",
            "63/63 [==============================] - 225s 4s/step - loss: 0.0610 - accuracy: 0.9800 - val_loss: 1.7558 - val_accuracy: 0.6990\n",
            "Epoch 24/30\n",
            "63/63 [==============================] - 224s 4s/step - loss: 0.0445 - accuracy: 0.9830 - val_loss: 1.7837 - val_accuracy: 0.7050\n",
            "Epoch 25/30\n",
            "63/63 [==============================] - 221s 4s/step - loss: 0.0325 - accuracy: 0.9905 - val_loss: 2.3407 - val_accuracy: 0.7060\n",
            "Epoch 26/30\n",
            "63/63 [==============================] - 220s 3s/step - loss: 0.0601 - accuracy: 0.9855 - val_loss: 2.0264 - val_accuracy: 0.6850\n",
            "Epoch 27/30\n",
            "63/63 [==============================] - 221s 4s/step - loss: 0.0819 - accuracy: 0.9855 - val_loss: 2.0416 - val_accuracy: 0.6970\n",
            "Epoch 28/30\n",
            "63/63 [==============================] - 222s 4s/step - loss: 0.0374 - accuracy: 0.9910 - val_loss: 1.9184 - val_accuracy: 0.7040\n",
            "Epoch 29/30\n",
            "63/63 [==============================] - 221s 4s/step - loss: 0.0477 - accuracy: 0.9820 - val_loss: 2.0675 - val_accuracy: 0.6930\n",
            "Epoch 30/30\n",
            "63/63 [==============================] - 221s 3s/step - loss: 0.0400 - accuracy: 0.9880 - val_loss: 2.1358 - val_accuracy: 0.7010\n"
          ]
        }
      ],
      "source": [
        "callbacks = [\n",
        "    keras.callbacks.ModelCheckpoint(\n",
        "        filepath=\"convnet_from_scratch.keras\",\n",
        "        save_best_only=True,\n",
        "        monitor=\"val_loss\"\n",
        "    )\n",
        "]\n",
        "history = model.fit(train_dataset,\n",
        "                    epochs= 30,\n",
        "                    validation_data=validation_dataset,\n",
        "                    callbacks=callbacks)"
      ]
    },
    {
      "cell_type": "code",
      "execution_count": 22,
      "metadata": {
        "colab": {
          "base_uri": "https://localhost:8080/",
          "height": 887
        },
        "id": "aK8ZgwGTliRM",
        "outputId": "9ad90700-3d59-430f-e2a7-78f2860d4e3c"
      },
      "outputs": [
        {
          "data": {
            "image/png": "[encoded data removed]",
            "text/plain": [
              "<Figure size 640x480 with 1 Axes>"
            ]
          },
          "metadata": {},
          "output_type": "display_data"
        },
        {
          "data": {
            "image/png": "[encoded data removed]",
            "text/plain": [
              "<Figure size 640x480 with 1 Axes>"
            ]
          },
          "metadata": {},
          "output_type": "display_data"
        }
      ],
      "source": [
        "import matplotlib.pyplot as plt\n",
        "accuracy = history.history[\"accuracy\"]\n",
        "val_accuracy = history.history[\"val_accuracy\"]\n",
        "loss = history.history[\"loss\"]\n",
        "val_loss = history.history[\"val_loss\"]\n",
        "\n",
        "epochs = range(1, len(accuracy) + 1)\n",
        "plt.plot(epochs, accuracy, \"bo\", label=\"Training accuracy\")\n",
        "plt.plot(epochs, val_accuracy, \"b\", label=\"Validation accuracy\")\n",
        "plt.title(\"Training and Validation Accuracy\")\n",
        "plt.legend()\n",
        "plt.figure()\n",
        "plt.plot(epochs, loss, \"bo\", label=\"Training loss\")\n",
        "plt.plot(epochs, val_loss, \"b\", label=\"Validation loss\")\n",
        "plt.title(\"Training and Validation Loss\")\n",
        "plt.legend()\n",
        "plt.show()"
      ]
    },
    {
      "cell_type": "code",
      "execution_count": 23,
      "metadata": {
        "colab": {
          "base_uri": "https://localhost:8080/"
        },
        "id": "U66FuNOimJXF",
        "outputId": "7dc8b1a7-e317-4791-e053-923322c4e061"
      },
      "outputs": [
        {
          "name": "stdout",
          "output_type": "stream",
          "text": [
            "63/63 [==============================] - 54s 845ms/step - loss: 0.5871 - accuracy: 0.7135\n",
            "Test accuracy: 0.714\n"
          ]
        }
      ],
      "source": [
        "test_model = keras.models.load_model(\"convnet_from_scratch.keras\")\n",
        "test_loss, test_acc = test_model.evaluate(test_dataset)\n",
        "print(f\"Test accuracy: {test_acc:.3f}\")"
      ]
    },
    {
      "cell_type": "markdown",
      "metadata": {
        "id": "t6sebMH-ncfK"
      },
      "source": [
        "Including Data Augmentation"
      ]
    },
    {
      "cell_type": "code",
      "execution_count": null,
      "metadata": {
        "id": "bj_fnUvPne2x"
      },
      "outputs": [],
      "source": [
        "data_augmentation = kera.Sequential(\n",
        "    [\n",
        "        layers.RandomFlip(\"horizontal\"),\n",
        "        layers.RandomRotation(0.1),\n",
        "        layers.RandomZoom(0.2),\n",
        "    ]\n",
        ")"
      ]
    },
    {
      "cell_type": "markdown",
      "metadata": {
        "id": "EoP_67bHn1mQ"
      },
      "source": [
        "*   RandomFlip(\"horizontal\") - Applies a horizontal flip to 50% of the images\n",
        "*   RandomRotation(0.1) - Rotates the input images by a random value in the range [-10% to +10%] (fractions of a circle [-36 degrees to +36 degrees])\n",
        "*   RandomZoom(0.2) - Zooms in or out by a factor of [-20% to +20%]\n"
      ]
    },
    {
      "cell_type": "code",
      "execution_count": null,
      "metadata": {
        "id": "VQeqIypfnxWH"
      },
      "outputs": [],
      "source": [
        "plt.figure(figsize=(10, 10))\n",
        "for images, _ in train_dataset.take(1):\n",
        "  for i in range(9):\n",
        "    augmented_images = data_augmentation(images)\n",
        "    ax = plt.subplot(3, 3, i+1)\n",
        "    plt.imshow(augmented_images[0].numpy().astype(\"uint8\"))\n",
        "    plt.axis(\"off\")"
      ]
    },
    {
      "cell_type": "markdown",
      "metadata": {
        "id": "s77-9Fiwp9D-"
      },
      "source": [
        "We can use take(N) to only sample N batches from the dataset. This is equivalent to inserting a break in the loop after the Nth batch"
      ]
    },
    {
      "cell_type": "code",
      "execution_count": null,
      "metadata": {
        "id": "PRrElUi0qlxy"
      },
      "outputs": [],
      "source": [
        "inputs = keras.Input(shape=(180, 180, 3))\n",
        "x = data_augmentation(inputs)\n",
        "x = layers.Rescaling(1./255)(inputs)\n",
        "x = layers.Conv2D(filters=32, kernel_size=3, activation=\"relu\")(x)\n",
        "x = layers.MaxPooling2D(pool_size=2)(x)\n",
        "x = layers.Conv2D(filters=64, kernel_size=3, activation=\"relu\")(x)\n",
        "x = layers.MaxPooling2D(pool_size=2)(x)\n",
        "x = layers.Conv2D(filters=128, kernel_size=3, activation=\"relu\")(x)\n",
        "x = layers.MaxPooling2D(pool_size=2)(x)\n",
        "x = layers.Conv2D(filters=256, kernel_size=3, activation=\"relu\")(x)\n",
        "x = layers.MaxPooling2D(pool_size=2)(x)\n",
        "x = layers.Conv2D(filters=256, kernel_size=3, activation=\"relu\")(x)\n",
        "x = layers.MaxPooling2D(pool_size=2)(x)\n",
        "x = layers.Flatten()(x)\n",
        "x = layers.Dropout(0.5)(x)\n",
        "\n",
        "outputs = layers.Dense(1, activation=\"sigmoid\")(x)\n",
        "model = keras.Model(inputs=inputs, outputs=outputs)\n",
        "\n",
        "model.compile(loss=\"binary_crossentropy\",\n",
        "              optimizer=\"rmsprop\",\n",
        "              metrics=[\"accuracy\"])"
      ]
    },
    {
      "cell_type": "code",
      "execution_count": null,
      "metadata": {
        "id": "sFx5SYdWrFOM"
      },
      "outputs": [],
      "source": [
        "callbacks = [\n",
        "    keras.callbacks.ModelCheckpoint(\n",
        "        filepath=\"convnet_from_scratch_with_augmentation.keras\",\n",
        "        save_best_only=True,\n",
        "        monitor=\"val_loss\"\n",
        "    )\n",
        "]\n",
        "history = model.fit(train_dataset,\n",
        "                    epochs= 100,\n",
        "                    validation_data=validation_dataset,\n",
        "                    callbacks=callbacks)"
      ]
    },
    {
      "cell_type": "code",
      "execution_count": null,
      "metadata": {
        "id": "aGVWkx9IrTv1"
      },
      "outputs": [],
      "source": [
        "test_model = keras.models.load_model(\"convnet_from_scratch_with_augmentation.keras\")\n",
        "test_loss, test_acc = test_model.evaluate(test_dataset)\n",
        "print(f\"Test accuracy: {test_acc:.3f}\")"
      ]
    }
  ],
  "metadata": {
    "colab": {
      "provenance": []
    },
    "kernelspec": {
      "display_name": "Python 3",
      "name": "python3"
    },
    "language_info": {
      "name": "python"
    }
  },
  "nbformat": 4,
  "nbformat_minor": 0
}
